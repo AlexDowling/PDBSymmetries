{
 "cells": [
  {
   "cell_type": "code",
   "execution_count": 1,
   "id": "05a3f4b4-a109-416a-ada1-f9e765d2c128",
   "metadata": {},
   "outputs": [],
   "source": [
    "import os\n",
    "import sys\n",
    "import glob\n",
    "\n",
    "import pandas as pd\n",
    "import numpy as np\n",
    "import matplotlib.pyplot as plt\n",
    "import seaborn as sns\n",
    "import pickle\n",
    "from random import sample\n",
    "import math"
   ]
  },
  {
   "cell_type": "code",
   "execution_count": 2,
   "id": "1ec9dabb-8c67-4ed0-b3ef-a5000dfcba90",
   "metadata": {},
   "outputs": [
    {
     "ename": "ModuleNotFoundError",
     "evalue": "No module named 'rcsbsearchapi'",
     "output_type": "error",
     "traceback": [
      "\u001b[0;31m---------------------------------------------------------------------------\u001b[0m",
      "\u001b[0;31mModuleNotFoundError\u001b[0m                       Traceback (most recent call last)",
      "Cell \u001b[0;32mIn[2], line 1\u001b[0m\n\u001b[0;32m----> 1\u001b[0m \u001b[38;5;28;01mfrom\u001b[39;00m \u001b[38;5;21;01mDataFormatting\u001b[39;00m \u001b[38;5;28;01mimport\u001b[39;00m \u001b[38;5;241m*\u001b[39m\n",
      "File \u001b[0;32m~/Documents/GitHub/PDBSymmetries/DataFormatting.py:11\u001b[0m\n\u001b[1;32m      8\u001b[0m \u001b[38;5;28;01mimport\u001b[39;00m \u001b[38;5;21;01mmath\u001b[39;00m\n\u001b[1;32m      9\u001b[0m \u001b[38;5;28;01mimport\u001b[39;00m \u001b[38;5;21;01mpickle\u001b[39;00m\n\u001b[0;32m---> 11\u001b[0m \u001b[38;5;28;01mfrom\u001b[39;00m \u001b[38;5;21;01mrcsbsearchapi\u001b[39;00m\u001b[38;5;21;01m.\u001b[39;00m\u001b[38;5;21;01msearch\u001b[39;00m \u001b[38;5;28;01mimport\u001b[39;00m TextQuery\n\u001b[1;32m     12\u001b[0m \u001b[38;5;28;01mfrom\u001b[39;00m \u001b[38;5;21;01mrcsbsearchapi\u001b[39;00m \u001b[38;5;28;01mimport\u001b[39;00m rcsb_attributes \u001b[38;5;28;01mas\u001b[39;00m attrs\n\u001b[1;32m     14\u001b[0m \u001b[38;5;28;01mdef\u001b[39;00m \u001b[38;5;21mis_capital\u001b[39m(string, space\u001b[38;5;241m=\u001b[39m\u001b[38;5;124m'\u001b[39m\u001b[38;5;124m'\u001b[39m):\n",
      "\u001b[0;31mModuleNotFoundError\u001b[0m: No module named 'rcsbsearchapi'"
     ]
    }
   ],
   "source": [
    "from DataFormatting import *"
   ]
  },
  {
   "cell_type": "code",
   "execution_count": 3,
   "id": "1276df89-6189-4776-ab57-6c49cc7782f6",
   "metadata": {},
   "outputs": [],
   "source": [
    "training_location = os.path.join('large-batch-1', '*.cif')\n",
    "training_files = glob.glob(training_location)"
   ]
  },
  {
   "cell_type": "code",
   "execution_count": 4,
   "id": "2920bb50-297e-4288-b619-e5c4e34cf52b",
   "metadata": {},
   "outputs": [
    {
     "ename": "NameError",
     "evalue": "name 'protein_data_frame' is not defined",
     "output_type": "error",
     "traceback": [
      "\u001b[0;31m---------------------------------------------------------------------------\u001b[0m",
      "\u001b[0;31mNameError\u001b[0m                                 Traceback (most recent call last)",
      "Cell \u001b[0;32mIn[4], line 1\u001b[0m\n\u001b[0;32m----> 1\u001b[0m pro_df \u001b[38;5;241m=\u001b[39m protein_data_frame(training_files)\n\u001b[1;32m      2\u001b[0m \u001b[38;5;28mprint\u001b[39m(pro_df)\n",
      "\u001b[0;31mNameError\u001b[0m: name 'protein_data_frame' is not defined"
     ]
    }
   ],
   "source": [
    "pro_df = protein_data_frame(training_files)\n",
    "print(pro_df)"
   ]
  },
  {
   "cell_type": "code",
   "execution_count": null,
   "id": "3bf0b1e5-08ef-4848-bf2d-ddb152bf8870",
   "metadata": {},
   "outputs": [],
   "source": []
  }
 ],
 "metadata": {
  "kernelspec": {
   "display_name": "Python 3 (ipykernel)",
   "language": "python",
   "name": "python3"
  },
  "language_info": {
   "codemirror_mode": {
    "name": "ipython",
    "version": 3
   },
   "file_extension": ".py",
   "mimetype": "text/x-python",
   "name": "python",
   "nbconvert_exporter": "python",
   "pygments_lexer": "ipython3",
   "version": "3.11.6"
  }
 },
 "nbformat": 4,
 "nbformat_minor": 5
}
