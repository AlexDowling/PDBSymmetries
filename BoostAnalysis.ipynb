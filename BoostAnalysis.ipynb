{
 "cells": [
  {
   "cell_type": "code",
   "execution_count": 1,
   "id": "05a3f4b4-a109-416a-ada1-f9e765d2c128",
   "metadata": {},
   "outputs": [],
   "source": [
    "import os\n",
    "import sys\n",
    "import glob\n",
    "\n",
    "import pandas as pd\n",
    "import numpy as np\n",
    "import matplotlib.pyplot as plt\n",
    "import seaborn as sns\n",
    "import pickle\n",
    "from random import sample\n",
    "import math"
   ]
  },
  {
   "cell_type": "code",
   "execution_count": 2,
   "id": "1ec9dabb-8c67-4ed0-b3ef-a5000dfcba90",
   "metadata": {},
   "outputs": [],
   "source": [
    "from DataFormatting import *"
   ]
  },
  {
   "cell_type": "code",
   "execution_count": 3,
   "id": "1276df89-6189-4776-ab57-6c49cc7782f6",
   "metadata": {},
   "outputs": [],
   "source": [
    "training_location = os.path.join('large-batch-1', '*.cif')\n",
    "training_files = glob.glob(training_location)"
   ]
  },
  {
   "cell_type": "code",
   "execution_count": 4,
   "id": "2920bb50-297e-4288-b619-e5c4e34cf52b",
   "metadata": {},
   "outputs": [
    {
     "name": "stdout",
     "output_type": "stream",
     "text": [
      "      E     N      C  SE  B    S  D  A   P  H  ...  MSE  LLP  ARG  PCA  DTH  \\\n",
      "8C2E  0   309   1150   0  0   12  0  0   0  0  ...    0    0   14    0    0   \n",
      "1AE1  0   650   2435   0  0   18  0  0   0  0  ...    0    0    8    0    0   \n",
      "5HAS  0  1864   6953   0  0   60  0  0   0  0  ...    0    0   23    0    0   \n",
      "7O5S  0   318   1161   0  0   10  0  0   0  0  ...    0    0   16    0    0   \n",
      "5KK1  0   958   3493   0  0    0  0  0  60  0  ...    0    0    3    0    0   \n",
      "...  ..   ...    ...  .. ..  ... .. ..  .. ..  ...  ...  ...  ...  ...  ...   \n",
      "2CY9  0   309   1136   0  0    4  0  0   0  0  ...    9    0    4    0    0   \n",
      "7W0J  0  4085  14533   0  0  120  0  0   0  0  ...    0    0   28    0    0   \n",
      "6MGN  0   152    510   0  0    6  0  0   0  0  ...    0    0    9    0    0   \n",
      "2ZYG  0  1212   4598   0  0   16  0  0   0  0  ...    0    0   20    0    0   \n",
      "1M3D  0  3596  13117   0  0  244  0  0   0  0  ...    0    0   22    0    0   \n",
      "\n",
      "      sing  doub  trip  OLIG_COUNT  SYMMETRY  \n",
      "8C2E   372    40     0           4         1  \n",
      "1AE1   407    48     0           2         1  \n",
      "5HAS   338    37     0           2         1  \n",
      "7O5S   380    40     0           4         1  \n",
      "5KK1   437    53     0           8         1  \n",
      "...    ...   ...   ...         ...       ...  \n",
      "2CY9     0     0     0           2         1  \n",
      "7W0J   336    37     0           4         0  \n",
      "6MGN   315    32     0           2         0  \n",
      "2ZYG   338    37     0           2         1  \n",
      "1M3D     0     0     0           6         1  \n",
      "\n",
      "[250 rows x 64 columns]\n"
     ]
    }
   ],
   "source": [
    "pro_df = protein_data_frame(training_files)\n",
    "print(pro_df)"
   ]
  },
  {
   "cell_type": "code",
   "execution_count": null,
   "id": "3bf0b1e5-08ef-4848-bf2d-ddb152bf8870",
   "metadata": {},
   "outputs": [],
   "source": []
  }
 ],
 "metadata": {
  "kernelspec": {
   "display_name": "Python 3 (ipykernel)",
   "language": "python",
   "name": "python3"
  },
  "language_info": {
   "codemirror_mode": {
    "name": "ipython",
    "version": 3
   },
   "file_extension": ".py",
   "mimetype": "text/x-python",
   "name": "python",
   "nbconvert_exporter": "python",
   "pygments_lexer": "ipython3",
   "version": "3.10.12"
  }
 },
 "nbformat": 4,
 "nbformat_minor": 5
}
