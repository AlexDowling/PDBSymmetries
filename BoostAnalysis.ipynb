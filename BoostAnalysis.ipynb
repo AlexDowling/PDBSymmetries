{
 "cells": [
  {
   "cell_type": "code",
   "execution_count": 7,
   "id": "05a3f4b4-a109-416a-ada1-f9e765d2c128",
   "metadata": {},
   "outputs": [],
   "source": [
    "import os\n",
    "import sys\n",
    "import glob\n",
    "\n",
    "import pandas as pd\n",
    "import numpy as np\n",
    "import matplotlib.pyplot as plt\n",
    "import seaborn as sns\n",
    "import pickle\n",
    "from random import sample\n",
    "import math"
   ]
  },
  {
   "cell_type": "code",
   "execution_count": 8,
   "id": "1ec9dabb-8c67-4ed0-b3ef-a5000dfcba90",
   "metadata": {},
   "outputs": [],
   "source": [
    "from DataFormatting import *"
   ]
  },
  {
   "cell_type": "code",
   "execution_count": null,
   "id": "990c3338",
   "metadata": {},
   "outputs": [],
   "source": []
  },
  {
   "cell_type": "code",
   "execution_count": 13,
   "id": "1276df89-6189-4776-ab57-6c49cc7782f6",
   "metadata": {},
   "outputs": [],
   "source": [
    "training_location = os.path.join('data', '*.cif')\n",
    "training_files = glob.glob(training_location)"
   ]
  },
  {
   "cell_type": "code",
   "execution_count": 14,
   "id": "2920bb50-297e-4288-b619-e5c4e34cf52b",
   "metadata": {},
   "outputs": [
    {
     "name": "stdout",
     "output_type": "stream",
     "text": [
      "        H     O    S  A  SE  B      C  D     N  E  ...  PSU  PYR  TYR  ARG  \\\n",
      "7WWY    0   445   11  0   0  0   1365  0   405  0  ...    0    0    1    4   \n",
      "5JAW    0  6211  130  0   0  0  21451  0  5690  0  ...    0    0   23   24   \n",
      "4G6Q    0   504    0  0   0  0   1677  0   469  0  ...    0    0    4   14   \n",
      "2RJL    0   213    5  0   0  0    745  0   185  0  ...    0    0    7    7   \n",
      "6ILH    0  1464   55  0   0  0   5100  0  1352  0  ...    0    0   22   27   \n",
      "...   ...   ...  ... ..  .. ..    ... ..   ... ..  ...  ...  ...  ...  ...   \n",
      "5DLR    0   693   37  0   0  0   2493  0   675  0  ...    0    0    4   13   \n",
      "4GUZ    0  1644   20  0   0  0   5696  0  1604  0  ...    0    0    9   23   \n",
      "3K5T    0  1014   16  0   0  0   3609  0   952  0  ...    0    0   33   45   \n",
      "6OZ8    0   990   30  0   0  0   3266  0   908  0  ...    0    1    5    8   \n",
      "1VWB  244   196    2  0   0  0    643  0   176  0  ...    0    0    6    4   \n",
      "\n",
      "      CSO  trip  doub  sing  OLIG_COUNT  SYMMETRY  \n",
      "7WWY    0     0    32   315           2         1  \n",
      "5JAW    0     0    38   371           4         0  \n",
      "4G6Q    0     0     0     0           2         1  \n",
      "2RJL    0     0    37   338           3         0  \n",
      "6ILH    0     0    44   391           2         1  \n",
      "...   ...   ...   ...   ...         ...       ...  \n",
      "5DLR    0     0    37   338           4         1  \n",
      "4GUZ    0     0    37   338           1         0  \n",
      "3K5T    0     0    43   399           2         1  \n",
      "6OZ8    0     0    34   322           8         0  \n",
      "1VWB    0     0     0     0           8         0  \n",
      "\n",
      "[250 rows x 64 columns]\n"
     ]
    }
   ],
   "source": [
    "pro_df = protein_data_frame(training_files)\n",
    "print(pro_df)"
   ]
  },
  {
   "cell_type": "code",
   "execution_count": 16,
   "id": "3bf0b1e5-08ef-4848-bf2d-ddb152bf8870",
   "metadata": {},
   "outputs": [],
   "source": [
    "pro_df.to_csv('data.csv')"
   ]
  }
 ],
 "metadata": {
  "kernelspec": {
   "display_name": "Python 3 (ipykernel)",
   "language": "python",
   "name": "python3"
  },
  "language_info": {
   "codemirror_mode": {
    "name": "ipython",
    "version": 3
   },
   "file_extension": ".py",
   "mimetype": "text/x-python",
   "name": "python",
   "nbconvert_exporter": "python",
   "pygments_lexer": "ipython3",
   "version": "3.11.6"
  }
 },
 "nbformat": 4,
 "nbformat_minor": 5
}
